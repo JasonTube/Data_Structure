{
 "cells": [
  {
   "cell_type": "code",
   "execution_count": 1,
   "metadata": {},
   "outputs": [
    {
     "name": "stdout",
     "output_type": "stream",
     "text": [
      "[]\n",
      "['abc', 1]\n"
     ]
    }
   ],
   "source": [
    "from ctypes import py_object\n",
    "class DynamicArray(object):\n",
    "    def __init__(self):\n",
    "        self._n=0\n",
    "        self._capacity=1\n",
    "        self._A=self._make_array(self._capacity)\n",
    "    def _make_array(self,c):\n",
    "        return(c*py_object)()\n",
    "    def __len__(self):\n",
    "        return self._n\n",
    "    def __getitem__(self,k):\n",
    "        if not 0<=k<self._n:\n",
    "            raise IndexError('invalid index')\n",
    "        return self._A[k]\n",
    "    def _resize(self,c):\n",
    "        B=self._make_array(c)\n",
    "        for k in range(self._n):\n",
    "            B[k]=self._A[k]\n",
    "        self._A=B\n",
    "        self._capacity=c\n",
    "    def append(self,obj):\n",
    "        if self._n ==self._capacity:\n",
    "            self._resize(2*self._capacity)\n",
    "        self._A[self._n]=obj\n",
    "        self._n+=1\n",
    "    def insert(self,k,obj):\n",
    "        if self._n==self._capacity:\n",
    "            self._resize(2*self._capacity)\n",
    "        for j in range(self._n-1,k,-1):\n",
    "            self._A[j+1]=self._A[j]\n",
    "        self._A[k]=obj\n",
    "        self._n+=1\n",
    "    def remove(self,obj):\n",
    "        for i in range(self._n):\n",
    "            if self._A[i]==obj:\n",
    "                for j in range(k+1,self._n):\n",
    "                    self._A[j-1]=self._A[j]\n",
    "                self._A[self._n-1]=None\n",
    "                self._n-=1\n",
    "                return\n",
    "            raise ValueError('Not Found!')\n",
    "    def pop(self,k=None):\n",
    "        if k==None:\n",
    "            value=self._A[self._n-1]\n",
    "            self._A[self._n-1]=None\n",
    "            self._n-=1\n",
    "            return value\n",
    "        else:\n",
    "            if not 0<=k<self._n:\n",
    "                raise IndexError('invalid index')\n",
    "            value=self._A[k]\n",
    "            for j in range(k+1,self.n):\n",
    "                self._A[j-1]=self._A[j]\n",
    "            self._A[self._n-1]=None\n",
    "            self._n-=1\n",
    "            return value\n",
    "    def __repr__(self):\n",
    "        return f'{self._A[0:self._n]}'\n",
    "    \n",
    "if __name__=='__main__':\n",
    "    a=DynamicArray()\n",
    "    print(a)\n",
    "    a.append('abc')\n",
    "    a.append(1)\n",
    "    print(a)\n",
    "            "
   ]
  },
  {
   "cell_type": "code",
   "execution_count": null,
   "metadata": {},
   "outputs": [],
   "source": []
  }
 ],
 "metadata": {
  "kernelspec": {
   "display_name": "Python 3",
   "language": "python",
   "name": "python3"
  },
  "language_info": {
   "codemirror_mode": {
    "name": "ipython",
    "version": 3
   },
   "file_extension": ".py",
   "mimetype": "text/x-python",
   "name": "python",
   "nbconvert_exporter": "python",
   "pygments_lexer": "ipython3",
   "version": "3.7.2"
  }
 },
 "nbformat": 4,
 "nbformat_minor": 2
}
